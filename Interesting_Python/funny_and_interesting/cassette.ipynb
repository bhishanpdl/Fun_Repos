{
 "cells": [
  {
   "cell_type": "markdown",
   "metadata": {
    "toc": true
   },
   "source": [
    "<h1>Table of Contents<span class=\"tocSkip\"></span></h1>\n",
    "<div class=\"toc\"><ul class=\"toc-item\"><li><span><a href=\"#Cassettes-Using-Python\" data-toc-modified-id=\"Cassettes-Using-Python-1\"><span class=\"toc-item-num\">1&nbsp;&nbsp;</span>Cassettes Using Python</a></span></li></ul></div>"
   ]
  },
  {
   "cell_type": "markdown",
   "metadata": {},
   "source": [
    "# Cassettes Using Python\n",
    "\n",
    "Ref: https://www.reddit.com/user/notafuckingcakewalk"
   ]
  },
  {
   "cell_type": "code",
   "execution_count": 3,
   "metadata": {},
   "outputs": [],
   "source": [
    "def get_factors(count):\n",
    "    root = count ** 0.5\n",
    "    if root.is_integer():\n",
    "        return int(root), int(root)\n",
    "    for factor in range(int(root), 1, -1):\n",
    "        print(\"Looking at \", factor)\n",
    "        other = count / factor\n",
    "        print(\"Other is\", other)\n",
    "        if other.is_integer():\n",
    "            return int(factor), int(other)\n",
    "    raise ValueError(\"{} is a prime number\".format(count))\n",
    "\n",
    "\n",
    "\n",
    "cassette = [\n",
    "'  ______________ ',\n",
    "' |   __    __   |',\n",
    "' |  /  \\  /  \\  |',\n",
    "' |  \\__/  \\__/  |',\n",
    "' |  __________  |',\n",
    "' |_/_o______o_\\_|'\n",
    "]\n",
    "\n",
    "\n",
    "def draw(count):\n",
    "    cols, rows = get_factors(count)\n",
    "    for _ in range(rows):\n",
    "        for line in cassette:\n",
    "            print(\"{}\".format(line * cols))\n",
    "\n",
    "def main():\n",
    "    while True:\n",
    "        count = int(input(\"How many cassettes do you want?\\n\"))\n",
    "        try:\n",
    "            draw(count)\n",
    "        except ValueError as err:\n",
    "            print(\"Enter a valid number: {}\".format(err))\n",
    "            continue\n",
    "        if (input(\"Want more? [Y]/N \") or \"Y\").strip().upper() != \"Y\":\n",
    "            break"
   ]
  },
  {
   "cell_type": "code",
   "execution_count": 5,
   "metadata": {},
   "outputs": [
    {
     "name": "stdout",
     "output_type": "stream",
     "text": [
      "Looking at  3\n",
      "Other is 4.0\n",
      "  ______________   ______________   ______________ \n",
      " |   __    __   | |   __    __   | |   __    __   |\n",
      " |  /  \\  /  \\  | |  /  \\  /  \\  | |  /  \\  /  \\  |\n",
      " |  \\__/  \\__/  | |  \\__/  \\__/  | |  \\__/  \\__/  |\n",
      " |  __________  | |  __________  | |  __________  |\n",
      " |_/_o______o_\\_| |_/_o______o_\\_| |_/_o______o_\\_|\n",
      "  ______________   ______________   ______________ \n",
      " |   __    __   | |   __    __   | |   __    __   |\n",
      " |  /  \\  /  \\  | |  /  \\  /  \\  | |  /  \\  /  \\  |\n",
      " |  \\__/  \\__/  | |  \\__/  \\__/  | |  \\__/  \\__/  |\n",
      " |  __________  | |  __________  | |  __________  |\n",
      " |_/_o______o_\\_| |_/_o______o_\\_| |_/_o______o_\\_|\n",
      "  ______________   ______________   ______________ \n",
      " |   __    __   | |   __    __   | |   __    __   |\n",
      " |  /  \\  /  \\  | |  /  \\  /  \\  | |  /  \\  /  \\  |\n",
      " |  \\__/  \\__/  | |  \\__/  \\__/  | |  \\__/  \\__/  |\n",
      " |  __________  | |  __________  | |  __________  |\n",
      " |_/_o______o_\\_| |_/_o______o_\\_| |_/_o______o_\\_|\n",
      "  ______________   ______________   ______________ \n",
      " |   __    __   | |   __    __   | |   __    __   |\n",
      " |  /  \\  /  \\  | |  /  \\  /  \\  | |  /  \\  /  \\  |\n",
      " |  \\__/  \\__/  | |  \\__/  \\__/  | |  \\__/  \\__/  |\n",
      " |  __________  | |  __________  | |  __________  |\n",
      " |_/_o______o_\\_| |_/_o______o_\\_| |_/_o______o_\\_|\n"
     ]
    }
   ],
   "source": [
    "draw(12)"
   ]
  },
  {
   "cell_type": "code",
   "execution_count": null,
   "metadata": {},
   "outputs": [],
   "source": []
  }
 ],
 "metadata": {
  "kernelspec": {
   "display_name": "Python (dataSc)",
   "language": "python",
   "name": "datasc"
  },
  "language_info": {
   "codemirror_mode": {
    "name": "ipython",
    "version": 3
   },
   "file_extension": ".py",
   "mimetype": "text/x-python",
   "name": "python",
   "nbconvert_exporter": "python",
   "pygments_lexer": "ipython3",
   "version": "3.7.0"
  },
  "toc": {
   "base_numbering": 1,
   "nav_menu": {},
   "number_sections": true,
   "sideBar": true,
   "skip_h1_title": false,
   "title_cell": "Table of Contents",
   "title_sidebar": "Contents",
   "toc_cell": true,
   "toc_position": {},
   "toc_section_display": true,
   "toc_window_display": true
  }
 },
 "nbformat": 4,
 "nbformat_minor": 2
}
